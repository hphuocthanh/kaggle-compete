{
 "cells": [
  {
   "cell_type": "code",
   "execution_count": 1,
   "id": "c436bf53",
   "metadata": {
    "_cell_guid": "b1076dfc-b9ad-4769-8c92-a6c4dae69d19",
    "_uuid": "8f2839f25d086af736a60e9eeb907d3b93b6e0e5",
    "execution": {
     "iopub.execute_input": "2022-11-11T05:10:15.365631Z",
     "iopub.status.busy": "2022-11-11T05:10:15.365110Z",
     "iopub.status.idle": "2022-11-11T05:10:15.379062Z",
     "shell.execute_reply": "2022-11-11T05:10:15.377837Z"
    },
    "papermill": {
     "duration": 0.027077,
     "end_time": "2022-11-11T05:10:15.381755",
     "exception": false,
     "start_time": "2022-11-11T05:10:15.354678",
     "status": "completed"
    },
    "tags": []
   },
   "outputs": [
    {
     "name": "stdout",
     "output_type": "stream",
     "text": [
      "/kaggle/input/digit-recognizer/sample_submission.csv\n",
      "/kaggle/input/digit-recognizer/train.csv\n",
      "/kaggle/input/digit-recognizer/test.csv\n"
     ]
    }
   ],
   "source": [
    "# This Python 3 environment comes with many helpful analytics libraries installed\n",
    "# It is defined by the kaggle/python Docker image: https://github.com/kaggle/docker-python\n",
    "# For example, here's several helpful packages to load\n",
    "\n",
    "import numpy as np # linear algebra\n",
    "import pandas as pd # data processing, CSV file I/O (e.g. pd.read_csv)\n",
    "\n",
    "# Input data files are available in the read-only \"../input/\" directory\n",
    "# For example, running this (by clicking run or pressing Shift+Enter) will list all files under the input directory\n",
    "\n",
    "import os\n",
    "for dirname, _, filenames in os.walk('/kaggle/input'):\n",
    "    for filename in filenames:\n",
    "        print(os.path.join(dirname, filename))\n",
    "\n",
    "# You can write up to 20GB to the current directory (/kaggle/working/) that gets preserved as output when you create a version using \"Save & Run All\" \n",
    "# You can also write temporary files to /kaggle/temp/, but they won't be saved outside of the current session"
   ]
  },
  {
   "cell_type": "code",
   "execution_count": 2,
   "id": "e8a9bc3c",
   "metadata": {
    "execution": {
     "iopub.execute_input": "2022-11-11T05:10:15.399885Z",
     "iopub.status.busy": "2022-11-11T05:10:15.399225Z",
     "iopub.status.idle": "2022-11-11T05:10:22.469699Z",
     "shell.execute_reply": "2022-11-11T05:10:22.468731Z"
    },
    "papermill": {
     "duration": 7.081961,
     "end_time": "2022-11-11T05:10:22.472200",
     "exception": false,
     "start_time": "2022-11-11T05:10:15.390239",
     "status": "completed"
    },
    "tags": []
   },
   "outputs": [],
   "source": [
    "from tensorflow import keras\n",
    "from tensorflow.keras import layers\n",
    "from tensorflow.keras.layers.experimental import preprocessing\n",
    "from sklearn.model_selection import train_test_split\n",
    "import matplotlib.pyplot as plt\n",
    "import matplotlib.cm as cm"
   ]
  },
  {
   "cell_type": "code",
   "execution_count": 3,
   "id": "40418db1",
   "metadata": {
    "execution": {
     "iopub.execute_input": "2022-11-11T05:10:22.489259Z",
     "iopub.status.busy": "2022-11-11T05:10:22.488080Z",
     "iopub.status.idle": "2022-11-11T05:10:26.243499Z",
     "shell.execute_reply": "2022-11-11T05:10:26.242296Z"
    },
    "papermill": {
     "duration": 3.76647,
     "end_time": "2022-11-11T05:10:26.246172",
     "exception": false,
     "start_time": "2022-11-11T05:10:22.479702",
     "status": "completed"
    },
    "tags": []
   },
   "outputs": [
    {
     "data": {
      "text/html": [
       "<div>\n",
       "<style scoped>\n",
       "    .dataframe tbody tr th:only-of-type {\n",
       "        vertical-align: middle;\n",
       "    }\n",
       "\n",
       "    .dataframe tbody tr th {\n",
       "        vertical-align: top;\n",
       "    }\n",
       "\n",
       "    .dataframe thead th {\n",
       "        text-align: right;\n",
       "    }\n",
       "</style>\n",
       "<table border=\"1\" class=\"dataframe\">\n",
       "  <thead>\n",
       "    <tr style=\"text-align: right;\">\n",
       "      <th></th>\n",
       "      <th>label</th>\n",
       "      <th>pixel0</th>\n",
       "      <th>pixel1</th>\n",
       "      <th>pixel2</th>\n",
       "      <th>pixel3</th>\n",
       "      <th>pixel4</th>\n",
       "      <th>pixel5</th>\n",
       "      <th>pixel6</th>\n",
       "      <th>pixel7</th>\n",
       "      <th>pixel8</th>\n",
       "      <th>...</th>\n",
       "      <th>pixel774</th>\n",
       "      <th>pixel775</th>\n",
       "      <th>pixel776</th>\n",
       "      <th>pixel777</th>\n",
       "      <th>pixel778</th>\n",
       "      <th>pixel779</th>\n",
       "      <th>pixel780</th>\n",
       "      <th>pixel781</th>\n",
       "      <th>pixel782</th>\n",
       "      <th>pixel783</th>\n",
       "    </tr>\n",
       "  </thead>\n",
       "  <tbody>\n",
       "    <tr>\n",
       "      <th>0</th>\n",
       "      <td>1</td>\n",
       "      <td>0</td>\n",
       "      <td>0</td>\n",
       "      <td>0</td>\n",
       "      <td>0</td>\n",
       "      <td>0</td>\n",
       "      <td>0</td>\n",
       "      <td>0</td>\n",
       "      <td>0</td>\n",
       "      <td>0</td>\n",
       "      <td>...</td>\n",
       "      <td>0</td>\n",
       "      <td>0</td>\n",
       "      <td>0</td>\n",
       "      <td>0</td>\n",
       "      <td>0</td>\n",
       "      <td>0</td>\n",
       "      <td>0</td>\n",
       "      <td>0</td>\n",
       "      <td>0</td>\n",
       "      <td>0</td>\n",
       "    </tr>\n",
       "    <tr>\n",
       "      <th>1</th>\n",
       "      <td>0</td>\n",
       "      <td>0</td>\n",
       "      <td>0</td>\n",
       "      <td>0</td>\n",
       "      <td>0</td>\n",
       "      <td>0</td>\n",
       "      <td>0</td>\n",
       "      <td>0</td>\n",
       "      <td>0</td>\n",
       "      <td>0</td>\n",
       "      <td>...</td>\n",
       "      <td>0</td>\n",
       "      <td>0</td>\n",
       "      <td>0</td>\n",
       "      <td>0</td>\n",
       "      <td>0</td>\n",
       "      <td>0</td>\n",
       "      <td>0</td>\n",
       "      <td>0</td>\n",
       "      <td>0</td>\n",
       "      <td>0</td>\n",
       "    </tr>\n",
       "    <tr>\n",
       "      <th>2</th>\n",
       "      <td>1</td>\n",
       "      <td>0</td>\n",
       "      <td>0</td>\n",
       "      <td>0</td>\n",
       "      <td>0</td>\n",
       "      <td>0</td>\n",
       "      <td>0</td>\n",
       "      <td>0</td>\n",
       "      <td>0</td>\n",
       "      <td>0</td>\n",
       "      <td>...</td>\n",
       "      <td>0</td>\n",
       "      <td>0</td>\n",
       "      <td>0</td>\n",
       "      <td>0</td>\n",
       "      <td>0</td>\n",
       "      <td>0</td>\n",
       "      <td>0</td>\n",
       "      <td>0</td>\n",
       "      <td>0</td>\n",
       "      <td>0</td>\n",
       "    </tr>\n",
       "    <tr>\n",
       "      <th>3</th>\n",
       "      <td>4</td>\n",
       "      <td>0</td>\n",
       "      <td>0</td>\n",
       "      <td>0</td>\n",
       "      <td>0</td>\n",
       "      <td>0</td>\n",
       "      <td>0</td>\n",
       "      <td>0</td>\n",
       "      <td>0</td>\n",
       "      <td>0</td>\n",
       "      <td>...</td>\n",
       "      <td>0</td>\n",
       "      <td>0</td>\n",
       "      <td>0</td>\n",
       "      <td>0</td>\n",
       "      <td>0</td>\n",
       "      <td>0</td>\n",
       "      <td>0</td>\n",
       "      <td>0</td>\n",
       "      <td>0</td>\n",
       "      <td>0</td>\n",
       "    </tr>\n",
       "    <tr>\n",
       "      <th>4</th>\n",
       "      <td>0</td>\n",
       "      <td>0</td>\n",
       "      <td>0</td>\n",
       "      <td>0</td>\n",
       "      <td>0</td>\n",
       "      <td>0</td>\n",
       "      <td>0</td>\n",
       "      <td>0</td>\n",
       "      <td>0</td>\n",
       "      <td>0</td>\n",
       "      <td>...</td>\n",
       "      <td>0</td>\n",
       "      <td>0</td>\n",
       "      <td>0</td>\n",
       "      <td>0</td>\n",
       "      <td>0</td>\n",
       "      <td>0</td>\n",
       "      <td>0</td>\n",
       "      <td>0</td>\n",
       "      <td>0</td>\n",
       "      <td>0</td>\n",
       "    </tr>\n",
       "  </tbody>\n",
       "</table>\n",
       "<p>5 rows × 785 columns</p>\n",
       "</div>"
      ],
      "text/plain": [
       "   label  pixel0  pixel1  pixel2  pixel3  pixel4  pixel5  pixel6  pixel7  \\\n",
       "0      1       0       0       0       0       0       0       0       0   \n",
       "1      0       0       0       0       0       0       0       0       0   \n",
       "2      1       0       0       0       0       0       0       0       0   \n",
       "3      4       0       0       0       0       0       0       0       0   \n",
       "4      0       0       0       0       0       0       0       0       0   \n",
       "\n",
       "   pixel8  ...  pixel774  pixel775  pixel776  pixel777  pixel778  pixel779  \\\n",
       "0       0  ...         0         0         0         0         0         0   \n",
       "1       0  ...         0         0         0         0         0         0   \n",
       "2       0  ...         0         0         0         0         0         0   \n",
       "3       0  ...         0         0         0         0         0         0   \n",
       "4       0  ...         0         0         0         0         0         0   \n",
       "\n",
       "   pixel780  pixel781  pixel782  pixel783  \n",
       "0         0         0         0         0  \n",
       "1         0         0         0         0  \n",
       "2         0         0         0         0  \n",
       "3         0         0         0         0  \n",
       "4         0         0         0         0  \n",
       "\n",
       "[5 rows x 785 columns]"
      ]
     },
     "execution_count": 3,
     "metadata": {},
     "output_type": "execute_result"
    }
   ],
   "source": [
    "train_data = pd.read_csv('/kaggle/input/digit-recognizer/train.csv')\n",
    "train_data.head()"
   ]
  },
  {
   "cell_type": "code",
   "execution_count": 4,
   "id": "6a7dbc49",
   "metadata": {
    "execution": {
     "iopub.execute_input": "2022-11-11T05:10:26.268443Z",
     "iopub.status.busy": "2022-11-11T05:10:26.268021Z",
     "iopub.status.idle": "2022-11-11T05:10:28.494355Z",
     "shell.execute_reply": "2022-11-11T05:10:28.493248Z"
    },
    "papermill": {
     "duration": 2.23771,
     "end_time": "2022-11-11T05:10:28.496576",
     "exception": false,
     "start_time": "2022-11-11T05:10:26.258866",
     "status": "completed"
    },
    "tags": []
   },
   "outputs": [
    {
     "data": {
      "text/html": [
       "<div>\n",
       "<style scoped>\n",
       "    .dataframe tbody tr th:only-of-type {\n",
       "        vertical-align: middle;\n",
       "    }\n",
       "\n",
       "    .dataframe tbody tr th {\n",
       "        vertical-align: top;\n",
       "    }\n",
       "\n",
       "    .dataframe thead th {\n",
       "        text-align: right;\n",
       "    }\n",
       "</style>\n",
       "<table border=\"1\" class=\"dataframe\">\n",
       "  <thead>\n",
       "    <tr style=\"text-align: right;\">\n",
       "      <th></th>\n",
       "      <th>pixel0</th>\n",
       "      <th>pixel1</th>\n",
       "      <th>pixel2</th>\n",
       "      <th>pixel3</th>\n",
       "      <th>pixel4</th>\n",
       "      <th>pixel5</th>\n",
       "      <th>pixel6</th>\n",
       "      <th>pixel7</th>\n",
       "      <th>pixel8</th>\n",
       "      <th>pixel9</th>\n",
       "      <th>...</th>\n",
       "      <th>pixel774</th>\n",
       "      <th>pixel775</th>\n",
       "      <th>pixel776</th>\n",
       "      <th>pixel777</th>\n",
       "      <th>pixel778</th>\n",
       "      <th>pixel779</th>\n",
       "      <th>pixel780</th>\n",
       "      <th>pixel781</th>\n",
       "      <th>pixel782</th>\n",
       "      <th>pixel783</th>\n",
       "    </tr>\n",
       "  </thead>\n",
       "  <tbody>\n",
       "    <tr>\n",
       "      <th>0</th>\n",
       "      <td>0</td>\n",
       "      <td>0</td>\n",
       "      <td>0</td>\n",
       "      <td>0</td>\n",
       "      <td>0</td>\n",
       "      <td>0</td>\n",
       "      <td>0</td>\n",
       "      <td>0</td>\n",
       "      <td>0</td>\n",
       "      <td>0</td>\n",
       "      <td>...</td>\n",
       "      <td>0</td>\n",
       "      <td>0</td>\n",
       "      <td>0</td>\n",
       "      <td>0</td>\n",
       "      <td>0</td>\n",
       "      <td>0</td>\n",
       "      <td>0</td>\n",
       "      <td>0</td>\n",
       "      <td>0</td>\n",
       "      <td>0</td>\n",
       "    </tr>\n",
       "    <tr>\n",
       "      <th>1</th>\n",
       "      <td>0</td>\n",
       "      <td>0</td>\n",
       "      <td>0</td>\n",
       "      <td>0</td>\n",
       "      <td>0</td>\n",
       "      <td>0</td>\n",
       "      <td>0</td>\n",
       "      <td>0</td>\n",
       "      <td>0</td>\n",
       "      <td>0</td>\n",
       "      <td>...</td>\n",
       "      <td>0</td>\n",
       "      <td>0</td>\n",
       "      <td>0</td>\n",
       "      <td>0</td>\n",
       "      <td>0</td>\n",
       "      <td>0</td>\n",
       "      <td>0</td>\n",
       "      <td>0</td>\n",
       "      <td>0</td>\n",
       "      <td>0</td>\n",
       "    </tr>\n",
       "    <tr>\n",
       "      <th>2</th>\n",
       "      <td>0</td>\n",
       "      <td>0</td>\n",
       "      <td>0</td>\n",
       "      <td>0</td>\n",
       "      <td>0</td>\n",
       "      <td>0</td>\n",
       "      <td>0</td>\n",
       "      <td>0</td>\n",
       "      <td>0</td>\n",
       "      <td>0</td>\n",
       "      <td>...</td>\n",
       "      <td>0</td>\n",
       "      <td>0</td>\n",
       "      <td>0</td>\n",
       "      <td>0</td>\n",
       "      <td>0</td>\n",
       "      <td>0</td>\n",
       "      <td>0</td>\n",
       "      <td>0</td>\n",
       "      <td>0</td>\n",
       "      <td>0</td>\n",
       "    </tr>\n",
       "    <tr>\n",
       "      <th>3</th>\n",
       "      <td>0</td>\n",
       "      <td>0</td>\n",
       "      <td>0</td>\n",
       "      <td>0</td>\n",
       "      <td>0</td>\n",
       "      <td>0</td>\n",
       "      <td>0</td>\n",
       "      <td>0</td>\n",
       "      <td>0</td>\n",
       "      <td>0</td>\n",
       "      <td>...</td>\n",
       "      <td>0</td>\n",
       "      <td>0</td>\n",
       "      <td>0</td>\n",
       "      <td>0</td>\n",
       "      <td>0</td>\n",
       "      <td>0</td>\n",
       "      <td>0</td>\n",
       "      <td>0</td>\n",
       "      <td>0</td>\n",
       "      <td>0</td>\n",
       "    </tr>\n",
       "    <tr>\n",
       "      <th>4</th>\n",
       "      <td>0</td>\n",
       "      <td>0</td>\n",
       "      <td>0</td>\n",
       "      <td>0</td>\n",
       "      <td>0</td>\n",
       "      <td>0</td>\n",
       "      <td>0</td>\n",
       "      <td>0</td>\n",
       "      <td>0</td>\n",
       "      <td>0</td>\n",
       "      <td>...</td>\n",
       "      <td>0</td>\n",
       "      <td>0</td>\n",
       "      <td>0</td>\n",
       "      <td>0</td>\n",
       "      <td>0</td>\n",
       "      <td>0</td>\n",
       "      <td>0</td>\n",
       "      <td>0</td>\n",
       "      <td>0</td>\n",
       "      <td>0</td>\n",
       "    </tr>\n",
       "  </tbody>\n",
       "</table>\n",
       "<p>5 rows × 784 columns</p>\n",
       "</div>"
      ],
      "text/plain": [
       "   pixel0  pixel1  pixel2  pixel3  pixel4  pixel5  pixel6  pixel7  pixel8  \\\n",
       "0       0       0       0       0       0       0       0       0       0   \n",
       "1       0       0       0       0       0       0       0       0       0   \n",
       "2       0       0       0       0       0       0       0       0       0   \n",
       "3       0       0       0       0       0       0       0       0       0   \n",
       "4       0       0       0       0       0       0       0       0       0   \n",
       "\n",
       "   pixel9  ...  pixel774  pixel775  pixel776  pixel777  pixel778  pixel779  \\\n",
       "0       0  ...         0         0         0         0         0         0   \n",
       "1       0  ...         0         0         0         0         0         0   \n",
       "2       0  ...         0         0         0         0         0         0   \n",
       "3       0  ...         0         0         0         0         0         0   \n",
       "4       0  ...         0         0         0         0         0         0   \n",
       "\n",
       "   pixel780  pixel781  pixel782  pixel783  \n",
       "0         0         0         0         0  \n",
       "1         0         0         0         0  \n",
       "2         0         0         0         0  \n",
       "3         0         0         0         0  \n",
       "4         0         0         0         0  \n",
       "\n",
       "[5 rows x 784 columns]"
      ]
     },
     "execution_count": 4,
     "metadata": {},
     "output_type": "execute_result"
    }
   ],
   "source": [
    "test_data = pd.read_csv('/kaggle/input/digit-recognizer/test.csv')\n",
    "test_data.head()"
   ]
  },
  {
   "cell_type": "code",
   "execution_count": 5,
   "id": "7f1b58e9",
   "metadata": {
    "execution": {
     "iopub.execute_input": "2022-11-11T05:10:28.514747Z",
     "iopub.status.busy": "2022-11-11T05:10:28.513671Z",
     "iopub.status.idle": "2022-11-11T05:10:28.604226Z",
     "shell.execute_reply": "2022-11-11T05:10:28.603000Z"
    },
    "papermill": {
     "duration": 0.10213,
     "end_time": "2022-11-11T05:10:28.606745",
     "exception": false,
     "start_time": "2022-11-11T05:10:28.504615",
     "status": "completed"
    },
    "tags": []
   },
   "outputs": [
    {
     "data": {
      "text/plain": [
       "((42000, 784), (42000,))"
      ]
     },
     "execution_count": 5,
     "metadata": {},
     "output_type": "execute_result"
    }
   ],
   "source": [
    "# get features and target\n",
    "X, y = train_data.drop(columns='label'), train_data['label']\n",
    "\n",
    "X.shape, y.shape"
   ]
  },
  {
   "cell_type": "code",
   "execution_count": 6,
   "id": "b9f6c3cf",
   "metadata": {
    "execution": {
     "iopub.execute_input": "2022-11-11T05:10:28.626611Z",
     "iopub.status.busy": "2022-11-11T05:10:28.626189Z",
     "iopub.status.idle": "2022-11-11T05:10:28.894451Z",
     "shell.execute_reply": "2022-11-11T05:10:28.893254Z"
    },
    "papermill": {
     "duration": 0.280411,
     "end_time": "2022-11-11T05:10:28.896781",
     "exception": false,
     "start_time": "2022-11-11T05:10:28.616370",
     "status": "completed"
    },
    "tags": []
   },
   "outputs": [
    {
     "data": {
      "text/plain": [
       "((29400, 784), (12600, 784), (29400,), (12600,))"
      ]
     },
     "execution_count": 6,
     "metadata": {},
     "output_type": "execute_result"
    }
   ],
   "source": [
    "# split the dataset\n",
    "X_train, X_val, y_train, y_val = train_test_split(X, y, test_size=0.3, random_state=20)\n",
    "\n",
    "X_train.shape, X_val.shape, y_train.shape, y_val.shape"
   ]
  },
  {
   "cell_type": "code",
   "execution_count": 7,
   "id": "8cea1127",
   "metadata": {
    "execution": {
     "iopub.execute_input": "2022-11-11T05:10:28.914863Z",
     "iopub.status.busy": "2022-11-11T05:10:28.914466Z",
     "iopub.status.idle": "2022-11-11T05:10:29.025690Z",
     "shell.execute_reply": "2022-11-11T05:10:29.024084Z"
    },
    "papermill": {
     "duration": 0.124754,
     "end_time": "2022-11-11T05:10:29.029901",
     "exception": false,
     "start_time": "2022-11-11T05:10:28.905147",
     "status": "completed"
    },
    "tags": []
   },
   "outputs": [
    {
     "data": {
      "image/png": "[encoded data removed]",
      "text/plain": [
       "<Figure size 432x288 with 1 Axes>"
      ]
     },
     "metadata": {
      "needs_background": "light"
     },
     "output_type": "display_data"
    }
   ],
   "source": [
    "# print(X_train.to_numpy()[0].reshape(28, 28))\n",
    "# plot the number of the first row\n",
    "x_train_first_row_reshaped = X_train.to_numpy()[0].reshape(28, 28) \n",
    "plt.imshow(x_train_first_row_reshaped)\n",
    "plt.title(f\"Digit: {y_train[0]}\")\n",
    "plt.axis(\"off\")\n",
    "plt.show()"
   ]
  },
  {
   "cell_type": "code",
   "execution_count": 8,
   "id": "7b22d8e4",
   "metadata": {
    "execution": {
     "iopub.execute_input": "2022-11-11T05:10:29.072919Z",
     "iopub.status.busy": "2022-11-11T05:10:29.072154Z",
     "iopub.status.idle": "2022-11-11T05:10:33.543475Z",
     "shell.execute_reply": "2022-11-11T05:10:33.542591Z"
    },
    "papermill": {
     "duration": 4.49486,
     "end_time": "2022-11-11T05:10:33.546050",
     "exception": false,
     "start_time": "2022-11-11T05:10:29.051190",
     "status": "completed"
    },
    "tags": []
   },
   "outputs": [
    {
     "data": {
      "text/plain": [
       "(-0.5, 27.5, 27.5, -0.5)"
      ]
     },
     "execution_count": 8,
     "metadata": {},
     "output_type": "execute_result"
    },
    {
     "data": {
      "image/png": "[encoded data removed]",
      "text/plain": [
       "<Figure size 864x864 with 1 Axes>"
      ]
     },
     "metadata": {
      "needs_background": "light"
     },
     "output_type": "display_data"
    }
   ],
   "source": [
    "# inspect img more closely\n",
    "def visualize_input(img, ax):\n",
    "    ax.imshow(img, cmap=\"gray\")\n",
    "    width, height = img.shape\n",
    "    thresh = img.max() / 2.5\n",
    "\n",
    "    for x in range(width):\n",
    "        for y in range(height):\n",
    "            ax.annotate(str(round(img[x][y], 2)), xy = (y,x), \n",
    "                        horizontalalignment=\"center\",\n",
    "                        verticalalignment=\"center\",\n",
    "                        color=\"white\" if (img[x][y] < thresh) else \"black\")\n",
    "            \n",
    "fig = plt.figure(figsize=(12,12))\n",
    "ax = fig.add_subplot(111)\n",
    "visualize_input(x_train_first_row_reshaped, ax)\n",
    "plt.axis(\"off\")"
   ]
  },
  {
   "cell_type": "code",
   "execution_count": 9,
   "id": "03f7840b",
   "metadata": {
    "execution": {
     "iopub.execute_input": "2022-11-11T05:10:33.568086Z",
     "iopub.status.busy": "2022-11-11T05:10:33.567200Z",
     "iopub.status.idle": "2022-11-11T05:10:33.573197Z",
     "shell.execute_reply": "2022-11-11T05:10:33.572411Z"
    },
    "papermill": {
     "duration": 0.019406,
     "end_time": "2022-11-11T05:10:33.575439",
     "exception": false,
     "start_time": "2022-11-11T05:10:33.556033",
     "status": "completed"
    },
    "tags": []
   },
   "outputs": [],
   "source": [
    "# convert dataset to numpy\n",
    "X_train, y_train = X_train.to_numpy(), y_train.to_numpy()\n",
    "X_val, y_val = X_val.to_numpy(), y_val.to_numpy()"
   ]
  },
  {
   "cell_type": "code",
   "execution_count": 10,
   "id": "1e2b2080",
   "metadata": {
    "execution": {
     "iopub.execute_input": "2022-11-11T05:10:33.596951Z",
     "iopub.status.busy": "2022-11-11T05:10:33.596374Z",
     "iopub.status.idle": "2022-11-11T05:10:33.801318Z",
     "shell.execute_reply": "2022-11-11T05:10:33.800142Z"
    },
    "papermill": {
     "duration": 0.21852,
     "end_time": "2022-11-11T05:10:33.803712",
     "exception": false,
     "start_time": "2022-11-11T05:10:33.585192",
     "status": "completed"
    },
    "tags": []
   },
   "outputs": [
    {
     "data": {
      "image/png": "[encoded data removed]",
      "text/plain": [
       "<Figure size 432x288 with 1 Axes>"
      ]
     },
     "metadata": {
      "needs_background": "light"
     },
     "output_type": "display_data"
    }
   ],
   "source": [
    "# plot pixels of first row \n",
    "plt.hist(X_train[0].reshape(784))\n",
    "plt.title(\"Pixel distribution of first row\")\n",
    "plt.show()"
   ]
  },
  {
   "cell_type": "code",
   "execution_count": 11,
   "id": "bc647273",
   "metadata": {
    "execution": {
     "iopub.execute_input": "2022-11-11T05:10:33.825482Z",
     "iopub.status.busy": "2022-11-11T05:10:33.824919Z",
     "iopub.status.idle": "2022-11-11T05:10:33.935840Z",
     "shell.execute_reply": "2022-11-11T05:10:33.934730Z"
    },
    "papermill": {
     "duration": 0.124996,
     "end_time": "2022-11-11T05:10:33.938611",
     "exception": false,
     "start_time": "2022-11-11T05:10:33.813615",
     "status": "completed"
    },
    "tags": []
   },
   "outputs": [],
   "source": [
    "# scale pixels\n",
    "X_train, X_val = X_train / 255, X_val / 255"
   ]
  },
  {
   "cell_type": "code",
   "execution_count": 12,
   "id": "3a77550c",
   "metadata": {
    "execution": {
     "iopub.execute_input": "2022-11-11T05:10:33.960833Z",
     "iopub.status.busy": "2022-11-11T05:10:33.960416Z",
     "iopub.status.idle": "2022-11-11T05:10:34.167285Z",
     "shell.execute_reply": "2022-11-11T05:10:34.165892Z"
    },
    "papermill": {
     "duration": 0.221153,
     "end_time": "2022-11-11T05:10:34.169665",
     "exception": false,
     "start_time": "2022-11-11T05:10:33.948512",
     "status": "completed"
    },
    "tags": []
   },
   "outputs": [
    {
     "data": {
      "image/png": "[encoded data removed]",
      "text/plain": [
       "<Figure size 432x288 with 1 Axes>"
      ]
     },
     "metadata": {
      "needs_background": "light"
     },
     "output_type": "display_data"
    }
   ],
   "source": [
    "# plot pixels of first row after scaling\n",
    "plt.hist(X_train[0].reshape(784))\n",
    "plt.title(\"Pixel distribution of first row\")\n",
    "plt.show()"
   ]
  },
  {
   "cell_type": "code",
   "execution_count": 13,
   "id": "ad264e94",
   "metadata": {
    "execution": {
     "iopub.execute_input": "2022-11-11T05:10:34.191639Z",
     "iopub.status.busy": "2022-11-11T05:10:34.191250Z",
     "iopub.status.idle": "2022-11-11T05:10:39.008316Z",
     "shell.execute_reply": "2022-11-11T05:10:39.007478Z"
    },
    "papermill": {
     "duration": 4.831568,
     "end_time": "2022-11-11T05:10:39.011362",
     "exception": false,
     "start_time": "2022-11-11T05:10:34.179794",
     "status": "completed"
    },
    "tags": []
   },
   "outputs": [
    {
     "data": {
      "text/plain": [
       "(-0.5, 27.5, 27.5, -0.5)"
      ]
     },
     "execution_count": 13,
     "metadata": {},
     "output_type": "execute_result"
    },
    {
     "data": {
      "image/png": "[encoded data removed]",
      "text/plain": [
       "<Figure size 864x864 with 1 Axes>"
      ]
     },
     "metadata": {
      "needs_background": "light"
     },
     "output_type": "display_data"
    }
   ],
   "source": [
    "fig = plt.figure(figsize = (12,12)) \n",
    "ax = fig.add_subplot(111)\n",
    "visualize_input(X_train[0].reshape(28, 28), ax)\n",
    "plt.axis(\"off\")"
   ]
  },
  {
   "cell_type": "code",
   "execution_count": 14,
   "id": "dfb80034",
   "metadata": {
    "execution": {
     "iopub.execute_input": "2022-11-11T05:10:39.040419Z",
     "iopub.status.busy": "2022-11-11T05:10:39.039487Z",
     "iopub.status.idle": "2022-11-11T05:10:39.047575Z",
     "shell.execute_reply": "2022-11-11T05:10:39.046790Z"
    },
    "papermill": {
     "duration": 0.024829,
     "end_time": "2022-11-11T05:10:39.049713",
     "exception": false,
     "start_time": "2022-11-11T05:10:39.024884",
     "status": "completed"
    },
    "tags": []
   },
   "outputs": [
    {
     "data": {
      "text/plain": [
       "(array([0, 1, 2, 3, 4, 5, 6, 7, 8, 9]),\n",
       " array([2891, 3263, 2927, 3030, 2884, 2637, 2952, 3077, 2818, 2921]))"
      ]
     },
     "execution_count": 14,
     "metadata": {},
     "output_type": "execute_result"
    }
   ],
   "source": [
    "# one-hot encoding\n",
    "np.unique(y_train, return_counts=True)"
   ]
  },
  {
   "cell_type": "code",
   "execution_count": 15,
   "id": "ed644130",
   "metadata": {
    "execution": {
     "iopub.execute_input": "2022-11-11T05:10:39.075504Z",
     "iopub.status.busy": "2022-11-11T05:10:39.074831Z",
     "iopub.status.idle": "2022-11-11T05:10:39.080983Z",
     "shell.execute_reply": "2022-11-11T05:10:39.080139Z"
    },
    "papermill": {
     "duration": 0.021056,
     "end_time": "2022-11-11T05:10:39.083043",
     "exception": false,
     "start_time": "2022-11-11T05:10:39.061987",
     "status": "completed"
    },
    "tags": []
   },
   "outputs": [],
   "source": [
    "# encode target\n",
    "y_train = keras.utils.to_categorical(y_train, num_classes=10)\n",
    "y_val = keras.utils.to_categorical(y_val, num_classes=10)"
   ]
  },
  {
   "cell_type": "code",
   "execution_count": 16,
   "id": "d13a3408",
   "metadata": {
    "execution": {
     "iopub.execute_input": "2022-11-11T05:10:39.108326Z",
     "iopub.status.busy": "2022-11-11T05:10:39.107276Z",
     "iopub.status.idle": "2022-11-11T05:10:39.113376Z",
     "shell.execute_reply": "2022-11-11T05:10:39.112613Z"
    },
    "papermill": {
     "duration": 0.020926,
     "end_time": "2022-11-11T05:10:39.115390",
     "exception": false,
     "start_time": "2022-11-11T05:10:39.094464",
     "status": "completed"
    },
    "tags": []
   },
   "outputs": [
    {
     "data": {
      "text/plain": [
       "[784]"
      ]
     },
     "execution_count": 16,
     "metadata": {},
     "output_type": "execute_result"
    }
   ],
   "source": [
    "[X_train.shape[1]]"
   ]
  },
  {
   "cell_type": "markdown",
   "id": "073425e4",
   "metadata": {
    "papermill": {
     "duration": 0.011398,
     "end_time": "2022-11-11T05:10:39.138325",
     "exception": false,
     "start_time": "2022-11-11T05:10:39.126927",
     "status": "completed"
    },
    "tags": []
   },
   "source": [
    "Build the model"
   ]
  },
  {
   "cell_type": "code",
   "execution_count": 17,
   "id": "c1f2beaa",
   "metadata": {
    "execution": {
     "iopub.execute_input": "2022-11-11T05:10:39.164357Z",
     "iopub.status.busy": "2022-11-11T05:10:39.163040Z",
     "iopub.status.idle": "2022-11-11T05:10:39.168623Z",
     "shell.execute_reply": "2022-11-11T05:10:39.167846Z"
    },
    "papermill": {
     "duration": 0.020984,
     "end_time": "2022-11-11T05:10:39.170859",
     "exception": false,
     "start_time": "2022-11-11T05:10:39.149875",
     "status": "completed"
    },
    "tags": []
   },
   "outputs": [],
   "source": [
    "import warnings\n",
    "\n",
    "# Mute warnings\n",
    "warnings.filterwarnings(\"default\")"
   ]
  },
  {
   "cell_type": "code",
   "execution_count": 18,
   "id": "1f4c179a",
   "metadata": {
    "execution": {
     "iopub.execute_input": "2022-11-11T05:10:39.196338Z",
     "iopub.status.busy": "2022-11-11T05:10:39.195522Z",
     "iopub.status.idle": "2022-11-11T05:10:39.270677Z",
     "shell.execute_reply": "2022-11-11T05:10:39.269717Z"
    },
    "papermill": {
     "duration": 0.090574,
     "end_time": "2022-11-11T05:10:39.272972",
     "exception": false,
     "start_time": "2022-11-11T05:10:39.182398",
     "status": "completed"
    },
    "tags": []
   },
   "outputs": [
    {
     "name": "stderr",
     "output_type": "stream",
     "text": [
      "2022-11-11 05:10:39.245736: I tensorflow/core/common_runtime/process_util.cc:146] Creating new thread pool with default inter op setting: 2. Tune using inter_op_parallelism_threads for best performance.\n"
     ]
    }
   ],
   "source": [
    "model = keras.Sequential([\n",
    "    layers.Dense(516, activation=\"relu\"),\n",
    "    layers.Dropout(0.7),\n",
    "    layers.Dense(1024, activation=\"relu\"),\n",
    "    layers.Dropout(0.1),\n",
    "    layers.Dense(10, activation=\"softmax\")\n",
    "])"
   ]
  },
  {
   "cell_type": "code",
   "execution_count": 19,
   "id": "8e91a4ff",
   "metadata": {
    "execution": {
     "iopub.execute_input": "2022-11-11T05:10:39.298730Z",
     "iopub.status.busy": "2022-11-11T05:10:39.297902Z",
     "iopub.status.idle": "2022-11-11T05:10:39.319731Z",
     "shell.execute_reply": "2022-11-11T05:10:39.318708Z"
    },
    "papermill": {
     "duration": 0.037694,
     "end_time": "2022-11-11T05:10:39.322282",
     "exception": false,
     "start_time": "2022-11-11T05:10:39.284588",
     "status": "completed"
    },
    "tags": []
   },
   "outputs": [],
   "source": [
    "model.compile(optimizer=\"Adam\",\n",
    "              loss=\"categorical_crossentropy\", \n",
    "              metrics=[\"categorical_accuracy\"])"
   ]
  },
  {
   "cell_type": "code",
   "execution_count": 20,
   "id": "27368227",
   "metadata": {
    "execution": {
     "iopub.execute_input": "2022-11-11T05:10:39.347950Z",
     "iopub.status.busy": "2022-11-11T05:10:39.347143Z",
     "iopub.status.idle": "2022-11-11T05:10:39.352471Z",
     "shell.execute_reply": "2022-11-11T05:10:39.351694Z"
    },
    "papermill": {
     "duration": 0.020659,
     "end_time": "2022-11-11T05:10:39.354684",
     "exception": false,
     "start_time": "2022-11-11T05:10:39.334025",
     "status": "completed"
    },
    "tags": []
   },
   "outputs": [],
   "source": [
    "# early stopping to prevent overfitting\n",
    "early_stopping = keras.callbacks.EarlyStopping(patience=4,\n",
    "                                               min_delta=0.001,\n",
    "                                               restore_best_weights=True)"
   ]
  },
  {
   "cell_type": "code",
   "execution_count": 21,
   "id": "9e468023",
   "metadata": {
    "execution": {
     "iopub.execute_input": "2022-11-11T05:10:39.379992Z",
     "iopub.status.busy": "2022-11-11T05:10:39.379193Z",
     "iopub.status.idle": "2022-11-11T05:11:28.260941Z",
     "shell.execute_reply": "2022-11-11T05:11:28.260001Z"
    },
    "papermill": {
     "duration": 48.897609,
     "end_time": "2022-11-11T05:11:28.263734",
     "exception": false,
     "start_time": "2022-11-11T05:10:39.366125",
     "status": "completed"
    },
    "tags": []
   },
   "outputs": [
    {
     "name": "stderr",
     "output_type": "stream",
     "text": [
      "2022-11-11 05:10:39.621966: I tensorflow/compiler/mlir/mlir_graph_optimization_pass.cc:185] None of the MLIR Optimization Passes are enabled (registered 2)\n"
     ]
    }
   ],
   "source": [
    "# train the model\n",
    "training = model.fit(\n",
    "    X_train, y_train,\n",
    "    validation_data=(X_val, y_val),\n",
    "    batch_size=128,\n",
    "    epochs=25,\n",
    "    callbacks=[early_stopping],\n",
    "    verbose=0\n",
    ")"
   ]
  },
  {
   "cell_type": "code",
   "execution_count": 22,
   "id": "42282aef",
   "metadata": {
    "execution": {
     "iopub.execute_input": "2022-11-11T05:11:28.289443Z",
     "iopub.status.busy": "2022-11-11T05:11:28.288782Z",
     "iopub.status.idle": "2022-11-11T05:11:28.296137Z",
     "shell.execute_reply": "2022-11-11T05:11:28.294624Z"
    },
    "papermill": {
     "duration": 0.023,
     "end_time": "2022-11-11T05:11:28.298754",
     "exception": false,
     "start_time": "2022-11-11T05:11:28.275754",
     "status": "completed"
    },
    "tags": []
   },
   "outputs": [
    {
     "name": "stdout",
     "output_type": "stream",
     "text": [
      "Model: \"sequential\"\n",
      "_________________________________________________________________\n",
      "Layer (type)                 Output Shape              Param #   \n",
      "=================================================================\n",
      "dense (Dense)                (None, 516)               405060    \n",
      "_________________________________________________________________\n",
      "dropout (Dropout)            (None, 516)               0         \n",
      "_________________________________________________________________\n",
      "dense_1 (Dense)              (None, 1024)              529408    \n",
      "_________________________________________________________________\n",
      "dropout_1 (Dropout)          (None, 1024)              0         \n",
      "_________________________________________________________________\n",
      "dense_2 (Dense)              (None, 10)                10250     \n",
      "=================================================================\n",
      "Total params: 944,718\n",
      "Trainable params: 944,718\n",
      "Non-trainable params: 0\n",
      "_________________________________________________________________\n"
     ]
    }
   ],
   "source": [
    "model.summary()"
   ]
  },
  {
   "cell_type": "code",
   "execution_count": 23,
   "id": "82fd4048",
   "metadata": {
    "execution": {
     "iopub.execute_input": "2022-11-11T05:11:28.324432Z",
     "iopub.status.busy": "2022-11-11T05:11:28.323754Z",
     "iopub.status.idle": "2022-11-11T05:11:29.243259Z",
     "shell.execute_reply": "2022-11-11T05:11:29.241487Z"
    },
    "papermill": {
     "duration": 0.935394,
     "end_time": "2022-11-11T05:11:29.245973",
     "exception": false,
     "start_time": "2022-11-11T05:11:28.310579",
     "status": "completed"
    },
    "tags": []
   },
   "outputs": [
    {
     "name": "stdout",
     "output_type": "stream",
     "text": [
      "394/394 - 1s - loss: 0.0871 - categorical_accuracy: 0.9746\n",
      "Value loss: 0.087070532143116\n",
      "Value accuracy: 0.9746031761169434\n"
     ]
    }
   ],
   "source": [
    "# evaluate model\n",
    "loss_n_metrics = model.evaluate(X_val, y_val, verbose=2)\n",
    "\n",
    "print(f\"Value loss: {loss_n_metrics[0]}\")\n",
    "print(f\"Value accuracy: {loss_n_metrics[1]}\")"
   ]
  },
  {
   "cell_type": "code",
   "execution_count": 24,
   "id": "25966372",
   "metadata": {
    "execution": {
     "iopub.execute_input": "2022-11-11T05:11:29.271810Z",
     "iopub.status.busy": "2022-11-11T05:11:29.271400Z",
     "iopub.status.idle": "2022-11-11T05:11:29.694581Z",
     "shell.execute_reply": "2022-11-11T05:11:29.693401Z"
    },
    "papermill": {
     "duration": 0.439003,
     "end_time": "2022-11-11T05:11:29.697052",
     "exception": false,
     "start_time": "2022-11-11T05:11:29.258049",
     "status": "completed"
    },
    "tags": []
   },
   "outputs": [
    {
     "data": {
      "image/png": "[encoded data removed]",
      "text/plain": [
       "<Figure size 576x432 with 2 Axes>"
      ]
     },
     "metadata": {
      "needs_background": "light"
     },
     "output_type": "display_data"
    }
   ],
   "source": [
    "# learning curve of model with loss and accuracy\n",
    "fig = plt.figure(figsize=(8, 6))\n",
    "plt.subplot(2, 1, 1)\n",
    "plt.plot(training.history['categorical_accuracy'])\n",
    "plt.plot(training.history['val_categorical_accuracy'])\n",
    "plt.title(\"Model accuracy\")\n",
    "plt.ylabel(\"accuracy\")\n",
    "plt.xlabel(\"epoch\")\n",
    "plt.legend(['train', 'val'], loc='lower right')\n",
    "\n",
    "plt.subplot(2, 1, 2)\n",
    "plt.plot(training.history['loss'])\n",
    "plt.plot(training.history['val_loss'])\n",
    "plt.title(\"Model loss\")\n",
    "plt.ylabel(\"accuracy\")\n",
    "plt.xlabel(\"epoch\")\n",
    "plt.legend(['train', 'val'], loc='upper right')\n",
    "\n",
    "plt.tight_layout()\n",
    "plt.show()"
   ]
  },
  {
   "cell_type": "code",
   "execution_count": 25,
   "id": "20ae83cb",
   "metadata": {
    "execution": {
     "iopub.execute_input": "2022-11-11T05:11:29.724446Z",
     "iopub.status.busy": "2022-11-11T05:11:29.724044Z",
     "iopub.status.idle": "2022-11-11T05:11:32.611128Z",
     "shell.execute_reply": "2022-11-11T05:11:32.610259Z"
    },
    "papermill": {
     "duration": 2.904048,
     "end_time": "2022-11-11T05:11:32.613766",
     "exception": false,
     "start_time": "2022-11-11T05:11:29.709718",
     "status": "completed"
    },
    "tags": []
   },
   "outputs": [],
   "source": [
    "# predict the test dataset and return the exact number not an array (decode it)\n",
    "y_pred = np.argmax(model.predict(test_data.to_numpy()), axis=-1)"
   ]
  },
  {
   "cell_type": "code",
   "execution_count": 26,
   "id": "9443b08b",
   "metadata": {
    "execution": {
     "iopub.execute_input": "2022-11-11T05:11:32.640484Z",
     "iopub.status.busy": "2022-11-11T05:11:32.639837Z",
     "iopub.status.idle": "2022-11-11T05:11:32.751447Z",
     "shell.execute_reply": "2022-11-11T05:11:32.749854Z"
    },
    "papermill": {
     "duration": 0.128851,
     "end_time": "2022-11-11T05:11:32.755044",
     "exception": false,
     "start_time": "2022-11-11T05:11:32.626193",
     "status": "completed"
    },
    "tags": []
   },
   "outputs": [
    {
     "data": {
      "image/png": "[encoded data removed]",
      "text/plain": [
       "<Figure size 432x288 with 1 Axes>"
      ]
     },
     "metadata": {
      "needs_background": "light"
     },
     "output_type": "display_data"
    }
   ],
   "source": [
    "# inspect first row of prediction\n",
    "plt.imshow(test_data.to_numpy()[0].reshape(28, 28))\n",
    "plt.title(f\"Digit: {y_pred[0]}\")\n",
    "plt.axis(\"off\")\n",
    "plt.show()"
   ]
  },
  {
   "cell_type": "code",
   "execution_count": 27,
   "id": "5b57e262",
   "metadata": {
    "execution": {
     "iopub.execute_input": "2022-11-11T05:11:32.801382Z",
     "iopub.status.busy": "2022-11-11T05:11:32.800955Z",
     "iopub.status.idle": "2022-11-11T05:11:32.847460Z",
     "shell.execute_reply": "2022-11-11T05:11:32.845967Z"
    },
    "papermill": {
     "duration": 0.06362,
     "end_time": "2022-11-11T05:11:32.850390",
     "exception": false,
     "start_time": "2022-11-11T05:11:32.786770",
     "status": "completed"
    },
    "tags": []
   },
   "outputs": [
    {
     "name": "stdout",
     "output_type": "stream",
     "text": [
      "Mission success!\n"
     ]
    }
   ],
   "source": [
    "# SUBMISSION\n",
    "submission = pd.DataFrame({ 'ImageId': pd.Series(list(range(1, len(y_pred) + 1))),\n",
    "                              'Label': pd.Series(y_pred)})\n",
    "\n",
    "submission.to_csv(\"submission.csv\", index=False)\n",
    "print(\"Mission success!\")"
   ]
  },
  {
   "cell_type": "code",
   "execution_count": 28,
   "id": "6847612b",
   "metadata": {
    "execution": {
     "iopub.execute_input": "2022-11-11T05:11:32.877966Z",
     "iopub.status.busy": "2022-11-11T05:11:32.877187Z",
     "iopub.status.idle": "2022-11-11T05:11:32.887080Z",
     "shell.execute_reply": "2022-11-11T05:11:32.885944Z"
    },
    "papermill": {
     "duration": 0.025999,
     "end_time": "2022-11-11T05:11:32.889259",
     "exception": false,
     "start_time": "2022-11-11T05:11:32.863260",
     "status": "completed"
    },
    "tags": []
   },
   "outputs": [
    {
     "data": {
      "text/html": [
       "<div>\n",
       "<style scoped>\n",
       "    .dataframe tbody tr th:only-of-type {\n",
       "        vertical-align: middle;\n",
       "    }\n",
       "\n",
       "    .dataframe tbody tr th {\n",
       "        vertical-align: top;\n",
       "    }\n",
       "\n",
       "    .dataframe thead th {\n",
       "        text-align: right;\n",
       "    }\n",
       "</style>\n",
       "<table border=\"1\" class=\"dataframe\">\n",
       "  <thead>\n",
       "    <tr style=\"text-align: right;\">\n",
       "      <th></th>\n",
       "      <th>ImageId</th>\n",
       "      <th>Label</th>\n",
       "    </tr>\n",
       "  </thead>\n",
       "  <tbody>\n",
       "    <tr>\n",
       "      <th>0</th>\n",
       "      <td>1</td>\n",
       "      <td>2</td>\n",
       "    </tr>\n",
       "    <tr>\n",
       "      <th>1</th>\n",
       "      <td>2</td>\n",
       "      <td>0</td>\n",
       "    </tr>\n",
       "    <tr>\n",
       "      <th>2</th>\n",
       "      <td>3</td>\n",
       "      <td>9</td>\n",
       "    </tr>\n",
       "    <tr>\n",
       "      <th>3</th>\n",
       "      <td>4</td>\n",
       "      <td>2</td>\n",
       "    </tr>\n",
       "    <tr>\n",
       "      <th>4</th>\n",
       "      <td>5</td>\n",
       "      <td>3</td>\n",
       "    </tr>\n",
       "  </tbody>\n",
       "</table>\n",
       "</div>"
      ],
      "text/plain": [
       "   ImageId  Label\n",
       "0        1      2\n",
       "1        2      0\n",
       "2        3      9\n",
       "3        4      2\n",
       "4        5      3"
      ]
     },
     "execution_count": 28,
     "metadata": {},
     "output_type": "execute_result"
    }
   ],
   "source": [
    "submission.head()"
   ]
  },
  {
   "cell_type": "code",
   "execution_count": null,
   "id": "783a2ae9",
   "metadata": {
    "papermill": {
     "duration": 0.012439,
     "end_time": "2022-11-11T05:11:32.914559",
     "exception": false,
     "start_time": "2022-11-11T05:11:32.902120",
     "status": "completed"
    },
    "tags": []
   },
   "outputs": [],
   "source": []
  }
 ],
 "metadata": {
  "kernelspec": {
   "display_name": "Python 3",
   "language": "python",
   "name": "python3"
  },
  "language_info": {
   "codemirror_mode": {
    "name": "ipython",
    "version": 3
   },
   "file_extension": ".py",
   "mimetype": "text/x-python",
   "name": "python",
   "nbconvert_exporter": "python",
   "pygments_lexer": "ipython3",
   "version": "3.7.12"
  },
  "papermill": {
   "default_parameters": {},
   "duration": 89.979321,
   "end_time": "2022-11-11T05:11:35.563629",
   "environment_variables": {},
   "exception": null,
   "input_path": "__notebook__.ipynb",
   "output_path": "__notebook__.ipynb",
   "parameters": {},
   "start_time": "2022-11-11T05:10:05.584308",
   "version": "2.3.4"
  }
 },
 "nbformat": 4,
 "nbformat_minor": 5
}
